{
    "cells": [
        {
            "cell_type": "code",
            "execution_count": 8,
            "id": "bf04bfc1-d88a-43b7-88bb-bc98a8c9ef43",
            "metadata": {},
            "outputs": [
                {
                    "name": "stderr",
                    "output_type": "stream",
                    "text": "c:\\users\\andreas.krueck\\appdata\\local\\programs\\python\\python39\\lib\\site-packages\\jupyter_dash\\jupyter_app.py:139: UserWarning:\n\nThe 'environ['werkzeug.server.shutdown']' function is deprecated and will be removed in Werkzeug 2.1.\n\nC:\\Users\\ANDREA~1.KRU\\AppData\\Local\\Temp/ipykernel_3300/2366104307.py:95: UserWarning:\n\nBoolean Series key will be reindexed to match DataFrame index.\n\n"
                }
            ],
            "source": "# Import required libraries\nimport pandas as pd\nimport plotly.express as px\nfrom jupyter_dash import JupyterDash\nimport dash_html_components as html\nimport dash_core_components as dcc\nfrom dash.dependencies import Input, Output\n\n# Read the airline data into pandas dataframe\nspacex_df = pd.read_csv(\"spacex_launch_dash.csv\")\nmax_payload = spacex_df['Payload Mass (kg)'].max()\nmin_payload = spacex_df['Payload Mass (kg)'].min()\n\n# Create a dash application\napp = JupyterDash(__name__)\n\n# Create an app layout\napp.layout = html.Div(\n    children=[\n        html.H1('SpaceX Launch Records Dashboard',\n                style={'textAlign': 'center', 'color': '#503D36',\n                       'font-size': 40}\n               ),\n        \n        # TASK 1: Add a dropdown list to enable Launch Site selection\n        # The default select value is for ALL sites\n        dcc.Dropdown(\n            id='site-dropdown',\n            options=[\n                         {'label': 'ALL SITES', 'value': 'ALL'},\n                         {'label': 'CCAFS LC-40', 'value': 'CCAFS LC-40'},\n                         {'label': 'VAFB SLC-4E', 'value': 'VAFB SLC-4E'},\n                         {'label': 'KSC LC-39A', 'value': 'KSC LC-39A'},\n                         {'label': 'CCAFS SLC-40', 'value': 'CCAFS SLC-40'}\n                    ],\n            value='ALL',\n            placeholder=\"Select a Launch Site here\", \n            searchable=True\n        ),\n        html.Br(),\n\n        # TASK 2: Add a pie chart to show the total successful launches count for all sites\n        # If a specific launch site was selected, show the Success vs. Failed counts for the site\n        html.Div(dcc.Graph(id='success-pie-chart')),\n        html.Br(),\n\n        html.P(\"Payload range (Kg):\"),\n        \n        # TASK 3: Add a slider to select payload range\n        #dcc.RangeSlider(id='payload-slider',...)\n        dcc.RangeSlider(id='payload-slider',\n                        min=0,max=10000,step=1000,\n                        value=[min_payload,max_payload],\n                        marks={0: '0', 2500:'2500',5000:'5000',\n                        7500:'7500', 10000: '10000'}\n                       ),        \n\n        # TASK 4: Add a scatter chart to show the correlation between payload and launch success\n        html.Div(dcc.Graph(id='success-payload-scatter-chart')),\n        ]\n    )\n\n# TASK 2:\n# Add a callback function for `site-dropdown` as input, `success-pie-chart` as output\n@app.callback(  Output(component_id='success-pie-chart', component_property='figure'),\n                Input(component_id='site-dropdown', component_property='value'))\n\ndef build_graph(site_dropdown):\n    if site_dropdown == 'ALL':\n        piechart = px.pie(data_frame = spacex_df, names='Launch Site', values='class' ,title='Total Launches for All Sites')\n        return piechart\n    else:\n        #specific_df = spacex_df['Launch Site']\n        specific_df=spacex_df.loc[spacex_df['Launch Site'] == site_dropdown]\n        piechart = px.pie(data_frame = specific_df, names='class',title='Total Launch for a Specific Site')\n        return piechart\n\n\n# TASK 4:\n# Add a callback function for `site-dropdown` and `payload-slider` as inputs, `success-payload-scatter-chart` as output\n@app.callback(\n    Output(component_id='success-payload-scatter-chart', component_property='figure'),\n    [Input(component_id='site-dropdown', component_property='value'),\n    Input(component_id='payload-slider', component_property='value')])\n\ndef update_graph(site_dropdown, payload_slider):\n    if site_dropdown == 'ALL':\n        filtered_data = spacex_df[(spacex_df['Payload Mass (kg)']>=payload_slider[0])\n        &(spacex_df['Payload Mass (kg)']<=payload_slider[1])]\n        scatterplot = px.scatter(data_frame=filtered_data, x=\"Payload Mass (kg)\", y=\"class\", \n        color=\"Booster Version Category\")\n        return scatterplot\n    else:\n        specific_df=spacex_df.loc[spacex_df['Launch Site'] == site_dropdown]\n        filtered_data = specific_df[(specific_df['Payload Mass (kg)']>=payload_slider[0])\n        &(spacex_df['Payload Mass (kg)']<=payload_slider[1])]\n        scatterplot = px.scatter(data_frame=filtered_data, x=\"Payload Mass (kg)\", y=\"class\", \n        color=\"Booster Version Category\")\n        return scatterplot\n\n\n# Run the app\nif __name__ == '__main__':\n    app.run_server(mode='jupyterlab', port = 8020, dev_tools_ui=True, #debug=True,\n              dev_tools_hot_reload =True, threaded=True)\n"
        },
        {
            "cell_type": "code",
            "execution_count": null,
            "id": "53ad9b2e-ca18-461c-acc7-ca99254874da",
            "metadata": {},
            "outputs": [],
            "source": ""
        }
    ],
    "metadata": {
        "kernelspec": {
            "display_name": "Python 3.8",
            "language": "python",
            "name": "python3"
        },
        "language_info": {
            "codemirror_mode": {
                "name": "ipython",
                "version": 3
            },
            "file_extension": ".py",
            "mimetype": "text/x-python",
            "name": "python",
            "nbconvert_exporter": "python",
            "pygments_lexer": "ipython3",
            "version": "3.8.12"
        }
    },
    "nbformat": 4,
    "nbformat_minor": 5
}